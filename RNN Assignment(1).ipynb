{
 "cells": [
  {
   "cell_type": "code",
   "execution_count": 1,
   "id": "700c9b8f",
   "metadata": {},
   "outputs": [],
   "source": [
    "import numpy as np\n",
    "import matplotlib.pyplot as plt\n",
    "import pandas as pd\n",
    "import math\n",
    "from keras.models import Sequential\n",
    "from keras.layers import Dense\n",
    "from keras.layers import LSTM\n",
    "from sklearn.preprocessing import MinMaxScaler\n",
    "from sklearn.metrics import mean_squared_error"
   ]
  },
  {
   "cell_type": "code",
   "execution_count": 2,
   "id": "000e6944",
   "metadata": {},
   "outputs": [],
   "source": [
    "df1 = pd.read_csv(r\"C:\\Users\\Avita\\Downloads\\airline-passengers.csv\")"
   ]
  },
  {
   "cell_type": "code",
   "execution_count": 3,
   "id": "b6391149",
   "metadata": {},
   "outputs": [
    {
     "data": {
      "text/html": [
       "<div>\n",
       "<style scoped>\n",
       "    .dataframe tbody tr th:only-of-type {\n",
       "        vertical-align: middle;\n",
       "    }\n",
       "\n",
       "    .dataframe tbody tr th {\n",
       "        vertical-align: top;\n",
       "    }\n",
       "\n",
       "    .dataframe thead th {\n",
       "        text-align: right;\n",
       "    }\n",
       "</style>\n",
       "<table border=\"1\" class=\"dataframe\">\n",
       "  <thead>\n",
       "    <tr style=\"text-align: right;\">\n",
       "      <th></th>\n",
       "      <th>\"Month\",\"Passengers\"</th>\n",
       "    </tr>\n",
       "  </thead>\n",
       "  <tbody>\n",
       "    <tr>\n",
       "      <th>0</th>\n",
       "      <td>\"1949-01\",112</td>\n",
       "    </tr>\n",
       "    <tr>\n",
       "      <th>1</th>\n",
       "      <td>\"1949-02\",118</td>\n",
       "    </tr>\n",
       "    <tr>\n",
       "      <th>2</th>\n",
       "      <td>\"1949-03\",132</td>\n",
       "    </tr>\n",
       "    <tr>\n",
       "      <th>3</th>\n",
       "      <td>\"1949-04\",129</td>\n",
       "    </tr>\n",
       "    <tr>\n",
       "      <th>4</th>\n",
       "      <td>\"1949-05\",121</td>\n",
       "    </tr>\n",
       "    <tr>\n",
       "      <th>...</th>\n",
       "      <td>...</td>\n",
       "    </tr>\n",
       "    <tr>\n",
       "      <th>139</th>\n",
       "      <td>\"1960-08\",606</td>\n",
       "    </tr>\n",
       "    <tr>\n",
       "      <th>140</th>\n",
       "      <td>\"1960-09\",508</td>\n",
       "    </tr>\n",
       "    <tr>\n",
       "      <th>141</th>\n",
       "      <td>\"1960-10\",461</td>\n",
       "    </tr>\n",
       "    <tr>\n",
       "      <th>142</th>\n",
       "      <td>\"1960-11\",390</td>\n",
       "    </tr>\n",
       "    <tr>\n",
       "      <th>143</th>\n",
       "      <td>\"1960-12\",432</td>\n",
       "    </tr>\n",
       "  </tbody>\n",
       "</table>\n",
       "<p>144 rows × 1 columns</p>\n",
       "</div>"
      ],
      "text/plain": [
       "    \"Month\",\"Passengers\"\n",
       "0          \"1949-01\",112\n",
       "1          \"1949-02\",118\n",
       "2          \"1949-03\",132\n",
       "3          \"1949-04\",129\n",
       "4          \"1949-05\",121\n",
       "..                   ...\n",
       "139        \"1960-08\",606\n",
       "140        \"1960-09\",508\n",
       "141        \"1960-10\",461\n",
       "142        \"1960-11\",390\n",
       "143        \"1960-12\",432\n",
       "\n",
       "[144 rows x 1 columns]"
      ]
     },
     "execution_count": 3,
     "metadata": {},
     "output_type": "execute_result"
    }
   ],
   "source": [
    "df1"
   ]
  },
  {
   "cell_type": "code",
   "execution_count": 4,
   "id": "b0389ba7",
   "metadata": {},
   "outputs": [],
   "source": [
    "df= pd.read_csv(r\"C:\\Users\\Avita\\Downloads\\AirPassengers NEW.csv\")"
   ]
  },
  {
   "cell_type": "code",
   "execution_count": 5,
   "id": "7f21addc",
   "metadata": {},
   "outputs": [
    {
     "data": {
      "text/html": [
       "<div>\n",
       "<style scoped>\n",
       "    .dataframe tbody tr th:only-of-type {\n",
       "        vertical-align: middle;\n",
       "    }\n",
       "\n",
       "    .dataframe tbody tr th {\n",
       "        vertical-align: top;\n",
       "    }\n",
       "\n",
       "    .dataframe thead th {\n",
       "        text-align: right;\n",
       "    }\n",
       "</style>\n",
       "<table border=\"1\" class=\"dataframe\">\n",
       "  <thead>\n",
       "    <tr style=\"text-align: right;\">\n",
       "      <th></th>\n",
       "      <th>Month</th>\n",
       "      <th>#Passengers</th>\n",
       "    </tr>\n",
       "  </thead>\n",
       "  <tbody>\n",
       "    <tr>\n",
       "      <th>0</th>\n",
       "      <td>1949-01</td>\n",
       "      <td>112</td>\n",
       "    </tr>\n",
       "    <tr>\n",
       "      <th>1</th>\n",
       "      <td>1949-02</td>\n",
       "      <td>118</td>\n",
       "    </tr>\n",
       "    <tr>\n",
       "      <th>2</th>\n",
       "      <td>1949-03</td>\n",
       "      <td>132</td>\n",
       "    </tr>\n",
       "    <tr>\n",
       "      <th>3</th>\n",
       "      <td>1949-04</td>\n",
       "      <td>129</td>\n",
       "    </tr>\n",
       "    <tr>\n",
       "      <th>4</th>\n",
       "      <td>1949-05</td>\n",
       "      <td>121</td>\n",
       "    </tr>\n",
       "    <tr>\n",
       "      <th>...</th>\n",
       "      <td>...</td>\n",
       "      <td>...</td>\n",
       "    </tr>\n",
       "    <tr>\n",
       "      <th>139</th>\n",
       "      <td>1960-08</td>\n",
       "      <td>606</td>\n",
       "    </tr>\n",
       "    <tr>\n",
       "      <th>140</th>\n",
       "      <td>1960-09</td>\n",
       "      <td>508</td>\n",
       "    </tr>\n",
       "    <tr>\n",
       "      <th>141</th>\n",
       "      <td>1960-10</td>\n",
       "      <td>461</td>\n",
       "    </tr>\n",
       "    <tr>\n",
       "      <th>142</th>\n",
       "      <td>1960-11</td>\n",
       "      <td>390</td>\n",
       "    </tr>\n",
       "    <tr>\n",
       "      <th>143</th>\n",
       "      <td>1960-12</td>\n",
       "      <td>432</td>\n",
       "    </tr>\n",
       "  </tbody>\n",
       "</table>\n",
       "<p>144 rows × 2 columns</p>\n",
       "</div>"
      ],
      "text/plain": [
       "       Month  #Passengers\n",
       "0    1949-01          112\n",
       "1    1949-02          118\n",
       "2    1949-03          132\n",
       "3    1949-04          129\n",
       "4    1949-05          121\n",
       "..       ...          ...\n",
       "139  1960-08          606\n",
       "140  1960-09          508\n",
       "141  1960-10          461\n",
       "142  1960-11          390\n",
       "143  1960-12          432\n",
       "\n",
       "[144 rows x 2 columns]"
      ]
     },
     "execution_count": 5,
     "metadata": {},
     "output_type": "execute_result"
    }
   ],
   "source": [
    "df"
   ]
  },
  {
   "cell_type": "code",
   "execution_count": 6,
   "id": "9a9e07f0",
   "metadata": {},
   "outputs": [
    {
     "data": {
      "text/plain": [
       "(144, 1)"
      ]
     },
     "execution_count": 6,
     "metadata": {},
     "output_type": "execute_result"
    }
   ],
   "source": [
    "\n",
    "# load the dataset\n",
    "df = pd.read_csv(r\"C:\\Users\\Avita\\Downloads\\AirPassengers NEW.csv\",usecols=[1])\n",
    "dataset = df.values\n",
    "dataset = dataset.astype('float32')\n",
    "dataset.shape"
   ]
  },
  {
   "cell_type": "code",
   "execution_count": 7,
   "id": "e2f8713a",
   "metadata": {},
   "outputs": [
    {
     "name": "stdout",
     "output_type": "stream",
     "text": [
      "<class 'pandas.core.frame.DataFrame'>\n",
      "RangeIndex: 144 entries, 0 to 143\n",
      "Data columns (total 1 columns):\n",
      " #   Column       Non-Null Count  Dtype\n",
      "---  ------       --------------  -----\n",
      " 0   #Passengers  144 non-null    int64\n",
      "dtypes: int64(1)\n",
      "memory usage: 1.2 KB\n"
     ]
    }
   ],
   "source": [
    "df.info()"
   ]
  },
  {
   "cell_type": "code",
   "execution_count": 8,
   "id": "162fba5b",
   "metadata": {},
   "outputs": [
    {
     "data": {
      "text/plain": [
       "#Passengers    0\n",
       "dtype: int64"
      ]
     },
     "execution_count": 8,
     "metadata": {},
     "output_type": "execute_result"
    }
   ],
   "source": [
    "df.isnull().sum()"
   ]
  },
  {
   "cell_type": "code",
   "execution_count": 9,
   "id": "e02abec0",
   "metadata": {},
   "outputs": [
    {
     "data": {
      "text/plain": [
       "(144, 1)"
      ]
     },
     "execution_count": 9,
     "metadata": {},
     "output_type": "execute_result"
    }
   ],
   "source": [
    "df.shape"
   ]
  },
  {
   "cell_type": "code",
   "execution_count": 10,
   "id": "3418b246",
   "metadata": {},
   "outputs": [],
   "source": [
    "# normalize the dataset\n",
    "scaler = MinMaxScaler(feature_range=(0, 1))\n",
    "dataset = scaler.fit_transform(dataset)"
   ]
  },
  {
   "cell_type": "code",
   "execution_count": 11,
   "id": "09ad2de4",
   "metadata": {},
   "outputs": [
    {
     "data": {
      "text/plain": [
       "(144, 1)"
      ]
     },
     "execution_count": 11,
     "metadata": {},
     "output_type": "execute_result"
    }
   ],
   "source": [
    "dataset.shape"
   ]
  },
  {
   "cell_type": "markdown",
   "id": "4ae53a0c",
   "metadata": {},
   "source": [
    "# Train Test"
   ]
  },
  {
   "cell_type": "code",
   "execution_count": 12,
   "id": "f8cbac66",
   "metadata": {},
   "outputs": [
    {
     "name": "stdout",
     "output_type": "stream",
     "text": [
      "100 44\n"
     ]
    }
   ],
   "source": [
    "train_size = int(len(dataset) * 0.70)\n",
    "test_size = len(dataset) - train_size\n",
    "train, test = dataset[0:train_size,:], dataset[train_size:len(dataset),:]\n",
    "print(len(train), len(test))"
   ]
  },
  {
   "cell_type": "code",
   "execution_count": 13,
   "id": "82e47178",
   "metadata": {},
   "outputs": [],
   "source": [
    "def create_dataset(dataset, look_back=1):\n",
    "    dataX, dataY = [], []\n",
    "    for i in range(len(dataset)-look_back-1):\n",
    "        a = dataset[i:(i+look_back), 0]\n",
    "        dataX.append(a)\n",
    "        dataY.append(dataset[i + look_back, 0])\n",
    "    return np.array(dataX), np.array(dataY)"
   ]
  },
  {
   "cell_type": "code",
   "execution_count": 14,
   "id": "ac9ce990",
   "metadata": {},
   "outputs": [],
   "source": [
    "look_back = 1\n",
    "trainX, trainY = create_dataset(train, look_back)\n",
    "testX, testY = create_dataset(test, look_back)"
   ]
  },
  {
   "cell_type": "code",
   "execution_count": 15,
   "id": "7eb2ccfe",
   "metadata": {},
   "outputs": [
    {
     "name": "stdout",
     "output_type": "stream",
     "text": [
      " trainX.shape: (98, 1)\n",
      " trainY.shape: (98,)\n",
      " testX.shape: (42, 1)\n",
      " testY.shape: (42,)\n"
     ]
    }
   ],
   "source": [
    "print(\" trainX.shape: {}\\n trainY.shape: {}\\n testX.shape: {}\\n testY.shape: {}\".format(trainX.shape,trainY.shape,testX.shape,\n",
    "                                                                                       testY.shape))"
   ]
  },
  {
   "cell_type": "code",
   "execution_count": 16,
   "id": "29d5a4ec",
   "metadata": {},
   "outputs": [
    {
     "name": "stdout",
     "output_type": "stream",
     "text": [
      "Epoch 1/100\n",
      "98/98 - 3s - loss: 0.0389 - 3s/epoch - 26ms/step\n",
      "Epoch 2/100\n",
      "98/98 - 0s - loss: 0.0192 - 376ms/epoch - 4ms/step\n",
      "Epoch 3/100\n",
      "98/98 - 0s - loss: 0.0143 - 223ms/epoch - 2ms/step\n",
      "Epoch 4/100\n",
      "98/98 - 0s - loss: 0.0129 - 217ms/epoch - 2ms/step\n",
      "Epoch 5/100\n",
      "98/98 - 0s - loss: 0.0120 - 220ms/epoch - 2ms/step\n",
      "Epoch 6/100\n",
      "98/98 - 0s - loss: 0.0112 - 204ms/epoch - 2ms/step\n",
      "Epoch 7/100\n",
      "98/98 - 0s - loss: 0.0103 - 204ms/epoch - 2ms/step\n",
      "Epoch 8/100\n",
      "98/98 - 0s - loss: 0.0093 - 220ms/epoch - 2ms/step\n",
      "Epoch 9/100\n",
      "98/98 - 0s - loss: 0.0084 - 220ms/epoch - 2ms/step\n",
      "Epoch 10/100\n",
      "98/98 - 0s - loss: 0.0075 - 219ms/epoch - 2ms/step\n",
      "Epoch 11/100\n",
      "98/98 - 0s - loss: 0.0065 - 270ms/epoch - 3ms/step\n",
      "Epoch 12/100\n",
      "98/98 - 0s - loss: 0.0054 - 264ms/epoch - 3ms/step\n",
      "Epoch 13/100\n",
      "98/98 - 0s - loss: 0.0046 - 252ms/epoch - 3ms/step\n",
      "Epoch 14/100\n",
      "98/98 - 0s - loss: 0.0038 - 267ms/epoch - 3ms/step\n",
      "Epoch 15/100\n",
      "98/98 - 0s - loss: 0.0032 - 236ms/epoch - 2ms/step\n",
      "Epoch 16/100\n",
      "98/98 - 0s - loss: 0.0027 - 235ms/epoch - 2ms/step\n",
      "Epoch 17/100\n",
      "98/98 - 0s - loss: 0.0025 - 251ms/epoch - 3ms/step\n",
      "Epoch 18/100\n",
      "98/98 - 0s - loss: 0.0023 - 251ms/epoch - 3ms/step\n",
      "Epoch 19/100\n",
      "98/98 - 0s - loss: 0.0023 - 235ms/epoch - 2ms/step\n",
      "Epoch 20/100\n",
      "98/98 - 0s - loss: 0.0022 - 283ms/epoch - 3ms/step\n",
      "Epoch 21/100\n",
      "98/98 - 0s - loss: 0.0022 - 377ms/epoch - 4ms/step\n",
      "Epoch 22/100\n",
      "98/98 - 0s - loss: 0.0022 - 250ms/epoch - 3ms/step\n",
      "Epoch 23/100\n",
      "98/98 - 0s - loss: 0.0022 - 220ms/epoch - 2ms/step\n",
      "Epoch 24/100\n",
      "98/98 - 0s - loss: 0.0021 - 220ms/epoch - 2ms/step\n",
      "Epoch 25/100\n",
      "98/98 - 0s - loss: 0.0022 - 220ms/epoch - 2ms/step\n",
      "Epoch 26/100\n",
      "98/98 - 0s - loss: 0.0021 - 220ms/epoch - 2ms/step\n",
      "Epoch 27/100\n",
      "98/98 - 0s - loss: 0.0021 - 220ms/epoch - 2ms/step\n",
      "Epoch 28/100\n",
      "98/98 - 0s - loss: 0.0022 - 220ms/epoch - 2ms/step\n",
      "Epoch 29/100\n",
      "98/98 - 0s - loss: 0.0021 - 235ms/epoch - 2ms/step\n",
      "Epoch 30/100\n",
      "98/98 - 0s - loss: 0.0021 - 235ms/epoch - 2ms/step\n",
      "Epoch 31/100\n",
      "98/98 - 0s - loss: 0.0022 - 220ms/epoch - 2ms/step\n",
      "Epoch 32/100\n",
      "98/98 - 0s - loss: 0.0022 - 235ms/epoch - 2ms/step\n",
      "Epoch 33/100\n",
      "98/98 - 0s - loss: 0.0021 - 235ms/epoch - 2ms/step\n",
      "Epoch 34/100\n",
      "98/98 - 0s - loss: 0.0021 - 236ms/epoch - 2ms/step\n",
      "Epoch 35/100\n",
      "98/98 - 0s - loss: 0.0022 - 235ms/epoch - 2ms/step\n",
      "Epoch 36/100\n",
      "98/98 - 0s - loss: 0.0021 - 235ms/epoch - 2ms/step\n",
      "Epoch 37/100\n",
      "98/98 - 0s - loss: 0.0022 - 223ms/epoch - 2ms/step\n",
      "Epoch 38/100\n",
      "98/98 - 0s - loss: 0.0021 - 235ms/epoch - 2ms/step\n",
      "Epoch 39/100\n",
      "98/98 - 0s - loss: 0.0021 - 220ms/epoch - 2ms/step\n",
      "Epoch 40/100\n",
      "98/98 - 0s - loss: 0.0021 - 236ms/epoch - 2ms/step\n",
      "Epoch 41/100\n",
      "98/98 - 0s - loss: 0.0021 - 220ms/epoch - 2ms/step\n",
      "Epoch 42/100\n",
      "98/98 - 0s - loss: 0.0021 - 220ms/epoch - 2ms/step\n",
      "Epoch 43/100\n",
      "98/98 - 0s - loss: 0.0022 - 220ms/epoch - 2ms/step\n",
      "Epoch 44/100\n",
      "98/98 - 0s - loss: 0.0021 - 220ms/epoch - 2ms/step\n",
      "Epoch 45/100\n",
      "98/98 - 0s - loss: 0.0022 - 220ms/epoch - 2ms/step\n",
      "Epoch 46/100\n",
      "98/98 - 0s - loss: 0.0021 - 235ms/epoch - 2ms/step\n",
      "Epoch 47/100\n",
      "98/98 - 0s - loss: 0.0022 - 244ms/epoch - 2ms/step\n",
      "Epoch 48/100\n",
      "98/98 - 0s - loss: 0.0021 - 242ms/epoch - 2ms/step\n",
      "Epoch 49/100\n",
      "98/98 - 0s - loss: 0.0021 - 235ms/epoch - 2ms/step\n",
      "Epoch 50/100\n",
      "98/98 - 0s - loss: 0.0021 - 236ms/epoch - 2ms/step\n",
      "Epoch 51/100\n",
      "98/98 - 0s - loss: 0.0022 - 251ms/epoch - 3ms/step\n",
      "Epoch 52/100\n",
      "98/98 - 0s - loss: 0.0022 - 220ms/epoch - 2ms/step\n",
      "Epoch 53/100\n",
      "98/98 - 0s - loss: 0.0021 - 220ms/epoch - 2ms/step\n",
      "Epoch 54/100\n",
      "98/98 - 0s - loss: 0.0021 - 220ms/epoch - 2ms/step\n",
      "Epoch 55/100\n",
      "98/98 - 0s - loss: 0.0021 - 266ms/epoch - 3ms/step\n",
      "Epoch 56/100\n",
      "98/98 - 0s - loss: 0.0021 - 267ms/epoch - 3ms/step\n",
      "Epoch 57/100\n",
      "98/98 - 0s - loss: 0.0021 - 236ms/epoch - 2ms/step\n",
      "Epoch 58/100\n",
      "98/98 - 0s - loss: 0.0021 - 236ms/epoch - 2ms/step\n",
      "Epoch 59/100\n",
      "98/98 - 0s - loss: 0.0022 - 204ms/epoch - 2ms/step\n",
      "Epoch 60/100\n",
      "98/98 - 0s - loss: 0.0021 - 251ms/epoch - 3ms/step\n",
      "Epoch 61/100\n",
      "98/98 - 0s - loss: 0.0021 - 251ms/epoch - 3ms/step\n",
      "Epoch 62/100\n",
      "98/98 - 0s - loss: 0.0021 - 283ms/epoch - 3ms/step\n",
      "Epoch 63/100\n",
      "98/98 - 0s - loss: 0.0021 - 251ms/epoch - 3ms/step\n",
      "Epoch 64/100\n",
      "98/98 - 0s - loss: 0.0022 - 241ms/epoch - 2ms/step\n",
      "Epoch 65/100\n",
      "98/98 - 0s - loss: 0.0022 - 213ms/epoch - 2ms/step\n",
      "Epoch 66/100\n",
      "98/98 - 0s - loss: 0.0021 - 235ms/epoch - 2ms/step\n",
      "Epoch 67/100\n",
      "98/98 - 0s - loss: 0.0021 - 235ms/epoch - 2ms/step\n",
      "Epoch 68/100\n",
      "98/98 - 0s - loss: 0.0021 - 236ms/epoch - 2ms/step\n",
      "Epoch 69/100\n",
      "98/98 - 0s - loss: 0.0021 - 283ms/epoch - 3ms/step\n",
      "Epoch 70/100\n",
      "98/98 - 0s - loss: 0.0021 - 266ms/epoch - 3ms/step\n",
      "Epoch 71/100\n",
      "98/98 - 0s - loss: 0.0021 - 204ms/epoch - 2ms/step\n",
      "Epoch 72/100\n",
      "98/98 - 0s - loss: 0.0021 - 232ms/epoch - 2ms/step\n",
      "Epoch 73/100\n",
      "98/98 - 0s - loss: 0.0021 - 200ms/epoch - 2ms/step\n",
      "Epoch 74/100\n",
      "98/98 - 0s - loss: 0.0021 - 204ms/epoch - 2ms/step\n",
      "Epoch 75/100\n",
      "98/98 - 0s - loss: 0.0021 - 204ms/epoch - 2ms/step\n",
      "Epoch 76/100\n",
      "98/98 - 0s - loss: 0.0021 - 251ms/epoch - 3ms/step\n",
      "Epoch 77/100\n",
      "98/98 - 0s - loss: 0.0022 - 220ms/epoch - 2ms/step\n",
      "Epoch 78/100\n",
      "98/98 - 0s - loss: 0.0021 - 220ms/epoch - 2ms/step\n",
      "Epoch 79/100\n",
      "98/98 - 0s - loss: 0.0021 - 220ms/epoch - 2ms/step\n",
      "Epoch 80/100\n",
      "98/98 - 0s - loss: 0.0022 - 204ms/epoch - 2ms/step\n",
      "Epoch 81/100\n",
      "98/98 - 0s - loss: 0.0022 - 235ms/epoch - 2ms/step\n",
      "Epoch 82/100\n",
      "98/98 - 0s - loss: 0.0021 - 236ms/epoch - 2ms/step\n",
      "Epoch 83/100\n",
      "98/98 - 0s - loss: 0.0021 - 220ms/epoch - 2ms/step\n",
      "Epoch 84/100\n",
      "98/98 - 0s - loss: 0.0021 - 251ms/epoch - 3ms/step\n",
      "Epoch 85/100\n",
      "98/98 - 0s - loss: 0.0021 - 220ms/epoch - 2ms/step\n",
      "Epoch 86/100\n",
      "98/98 - 0s - loss: 0.0021 - 251ms/epoch - 3ms/step\n",
      "Epoch 87/100\n",
      "98/98 - 0s - loss: 0.0021 - 220ms/epoch - 2ms/step\n",
      "Epoch 88/100\n",
      "98/98 - 0s - loss: 0.0021 - 204ms/epoch - 2ms/step\n",
      "Epoch 89/100\n",
      "98/98 - 0s - loss: 0.0021 - 220ms/epoch - 2ms/step\n",
      "Epoch 90/100\n",
      "98/98 - 0s - loss: 0.0021 - 282ms/epoch - 3ms/step\n",
      "Epoch 91/100\n",
      "98/98 - 0s - loss: 0.0022 - 251ms/epoch - 3ms/step\n",
      "Epoch 92/100\n",
      "98/98 - 0s - loss: 0.0021 - 235ms/epoch - 2ms/step\n",
      "Epoch 93/100\n",
      "98/98 - 0s - loss: 0.0021 - 225ms/epoch - 2ms/step\n",
      "Epoch 94/100\n",
      "98/98 - 0s - loss: 0.0021 - 246ms/epoch - 3ms/step\n",
      "Epoch 95/100\n",
      "98/98 - 0s - loss: 0.0021 - 235ms/epoch - 2ms/step\n",
      "Epoch 96/100\n",
      "98/98 - 0s - loss: 0.0021 - 220ms/epoch - 2ms/step\n",
      "Epoch 97/100\n",
      "98/98 - 0s - loss: 0.0021 - 267ms/epoch - 3ms/step\n",
      "Epoch 98/100\n",
      "98/98 - 0s - loss: 0.0021 - 267ms/epoch - 3ms/step\n",
      "Epoch 99/100\n",
      "98/98 - 0s - loss: 0.0022 - 267ms/epoch - 3ms/step\n",
      "Epoch 100/100\n",
      "98/98 - 0s - loss: 0.0021 - 298ms/epoch - 3ms/step\n"
     ]
    },
    {
     "data": {
      "text/plain": [
       "<keras.src.callbacks.History at 0x25928aa7850>"
      ]
     },
     "execution_count": 16,
     "metadata": {},
     "output_type": "execute_result"
    }
   ],
   "source": [
    "model = Sequential()\n",
    "model.add(LSTM(4, input_shape=(1, look_back)))\n",
    "model.add(Dense(1))\n",
    "model.compile(loss='mean_squared_error', optimizer='adam')\n",
    "model.fit(trainX, trainY, epochs=100, batch_size=1, verbose=2)"
   ]
  },
  {
   "cell_type": "code",
   "execution_count": 18,
   "id": "89c4c433",
   "metadata": {},
   "outputs": [
    {
     "name": "stdout",
     "output_type": "stream",
     "text": [
      "Epoch 1/50\n",
      "98/98 - 2s - loss: 0.0368 - 2s/epoch - 21ms/step\n",
      "Epoch 2/50\n",
      "98/98 - 0s - loss: 0.0234 - 232ms/epoch - 2ms/step\n",
      "Epoch 3/50\n",
      "98/98 - 0s - loss: 0.0231 - 232ms/epoch - 2ms/step\n",
      "Epoch 4/50\n",
      "98/98 - 0s - loss: 0.0227 - 225ms/epoch - 2ms/step\n",
      "Epoch 5/50\n",
      "98/98 - 0s - loss: 0.0225 - 232ms/epoch - 2ms/step\n",
      "Epoch 6/50\n",
      "98/98 - 0s - loss: 0.0224 - 216ms/epoch - 2ms/step\n",
      "Epoch 7/50\n",
      "98/98 - 0s - loss: 0.0222 - 248ms/epoch - 3ms/step\n",
      "Epoch 8/50\n",
      "98/98 - 0s - loss: 0.0219 - 272ms/epoch - 3ms/step\n",
      "Epoch 9/50\n",
      "98/98 - 0s - loss: 0.0217 - 248ms/epoch - 3ms/step\n",
      "Epoch 10/50\n",
      "98/98 - 0s - loss: 0.0215 - 240ms/epoch - 2ms/step\n",
      "Epoch 11/50\n",
      "98/98 - 0s - loss: 0.0213 - 208ms/epoch - 2ms/step\n",
      "Epoch 12/50\n",
      "98/98 - 0s - loss: 0.0210 - 224ms/epoch - 2ms/step\n",
      "Epoch 13/50\n",
      "98/98 - 0s - loss: 0.0209 - 216ms/epoch - 2ms/step\n",
      "Epoch 14/50\n",
      "98/98 - 0s - loss: 0.0206 - 240ms/epoch - 2ms/step\n",
      "Epoch 15/50\n",
      "98/98 - 0s - loss: 0.0205 - 232ms/epoch - 2ms/step\n",
      "Epoch 16/50\n",
      "98/98 - 0s - loss: 0.0202 - 208ms/epoch - 2ms/step\n",
      "Epoch 17/50\n",
      "98/98 - 0s - loss: 0.0199 - 259ms/epoch - 3ms/step\n",
      "Epoch 18/50\n",
      "98/98 - 0s - loss: 0.0199 - 224ms/epoch - 2ms/step\n",
      "Epoch 19/50\n",
      "98/98 - 0s - loss: 0.0196 - 224ms/epoch - 2ms/step\n",
      "Epoch 20/50\n",
      "98/98 - 0s - loss: 0.0194 - 224ms/epoch - 2ms/step\n",
      "Epoch 21/50\n",
      "98/98 - 0s - loss: 0.0193 - 200ms/epoch - 2ms/step\n",
      "Epoch 22/50\n",
      "98/98 - 0s - loss: 0.0190 - 200ms/epoch - 2ms/step\n",
      "Epoch 23/50\n",
      "98/98 - 0s - loss: 0.0190 - 232ms/epoch - 2ms/step\n",
      "Epoch 24/50\n",
      "98/98 - 0s - loss: 0.0185 - 216ms/epoch - 2ms/step\n",
      "Epoch 25/50\n",
      "98/98 - 0s - loss: 0.0185 - 224ms/epoch - 2ms/step\n",
      "Epoch 26/50\n",
      "98/98 - 0s - loss: 0.0183 - 232ms/epoch - 2ms/step\n",
      "Epoch 27/50\n",
      "98/98 - 0s - loss: 0.0180 - 234ms/epoch - 2ms/step\n",
      "Epoch 28/50\n",
      "98/98 - 0s - loss: 0.0180 - 224ms/epoch - 2ms/step\n",
      "Epoch 29/50\n",
      "98/98 - 0s - loss: 0.0179 - 232ms/epoch - 2ms/step\n",
      "Epoch 30/50\n",
      "98/98 - 0s - loss: 0.0177 - 224ms/epoch - 2ms/step\n",
      "Epoch 31/50\n",
      "98/98 - 0s - loss: 0.0175 - 240ms/epoch - 2ms/step\n",
      "Epoch 32/50\n",
      "98/98 - 0s - loss: 0.0173 - 240ms/epoch - 2ms/step\n",
      "Epoch 33/50\n",
      "98/98 - 0s - loss: 0.0171 - 234ms/epoch - 2ms/step\n",
      "Epoch 34/50\n",
      "98/98 - 0s - loss: 0.0169 - 216ms/epoch - 2ms/step\n",
      "Epoch 35/50\n",
      "98/98 - 0s - loss: 0.0168 - 216ms/epoch - 2ms/step\n",
      "Epoch 36/50\n",
      "98/98 - 0s - loss: 0.0166 - 224ms/epoch - 2ms/step\n",
      "Epoch 37/50\n",
      "98/98 - 0s - loss: 0.0164 - 224ms/epoch - 2ms/step\n",
      "Epoch 38/50\n",
      "98/98 - 0s - loss: 0.0162 - 208ms/epoch - 2ms/step\n",
      "Epoch 39/50\n",
      "98/98 - 0s - loss: 0.0161 - 225ms/epoch - 2ms/step\n",
      "Epoch 40/50\n",
      "98/98 - 0s - loss: 0.0159 - 232ms/epoch - 2ms/step\n",
      "Epoch 41/50\n",
      "98/98 - 0s - loss: 0.0158 - 232ms/epoch - 2ms/step\n",
      "Epoch 42/50\n",
      "98/98 - 0s - loss: 0.0156 - 264ms/epoch - 3ms/step\n",
      "Epoch 43/50\n",
      "98/98 - 0s - loss: 0.0153 - 289ms/epoch - 3ms/step\n",
      "Epoch 44/50\n",
      "98/98 - 0s - loss: 0.0153 - 265ms/epoch - 3ms/step\n",
      "Epoch 45/50\n",
      "98/98 - 0s - loss: 0.0152 - 288ms/epoch - 3ms/step\n",
      "Epoch 46/50\n",
      "98/98 - 0s - loss: 0.0150 - 288ms/epoch - 3ms/step\n",
      "Epoch 47/50\n",
      "98/98 - 0s - loss: 0.0148 - 264ms/epoch - 3ms/step\n",
      "Epoch 48/50\n",
      "98/98 - 0s - loss: 0.0147 - 252ms/epoch - 3ms/step\n",
      "Epoch 49/50\n",
      "98/98 - 0s - loss: 0.0143 - 248ms/epoch - 3ms/step\n",
      "Epoch 50/50\n",
      "98/98 - 0s - loss: 0.0144 - 272ms/epoch - 3ms/step\n"
     ]
    },
    {
     "data": {
      "text/plain": [
       "<keras.src.callbacks.History at 0x2592af3b2b0>"
      ]
     },
     "execution_count": 18,
     "metadata": {},
     "output_type": "execute_result"
    }
   ],
   "source": [
    "# Another model with epochs= 50 and optimiser = 'sgd'\n",
    "model1 = Sequential()\n",
    "model1.add(LSTM(4, input_shape=(1, look_back)))\n",
    "model1.add(Dense(1))\n",
    "model1.compile(loss='mean_squared_error', optimizer='sgd')\n",
    "model1.fit(trainX, trainY, epochs=50, batch_size=1, verbose=2)"
   ]
  },
  {
   "cell_type": "code",
   "execution_count": null,
   "id": "54c1341f",
   "metadata": {},
   "outputs": [],
   "source": []
  }
 ],
 "metadata": {
  "kernelspec": {
   "display_name": "Python 3 (ipykernel)",
   "language": "python",
   "name": "python3"
  },
  "language_info": {
   "codemirror_mode": {
    "name": "ipython",
    "version": 3
   },
   "file_extension": ".py",
   "mimetype": "text/x-python",
   "name": "python",
   "nbconvert_exporter": "python",
   "pygments_lexer": "ipython3",
   "version": "3.9.13"
  }
 },
 "nbformat": 4,
 "nbformat_minor": 5
}
